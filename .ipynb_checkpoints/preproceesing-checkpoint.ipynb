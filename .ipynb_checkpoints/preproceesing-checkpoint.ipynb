{
 "cells": [
  {
   "cell_type": "code",
   "execution_count": 43,
   "id": "9c1695f2",
   "metadata": {},
   "outputs": [],
   "source": [
    "import os\n",
    "import pandas as pd\n",
    "import numpy as np\n",
    "import librosa\n",
    "import IPython.display as ipd\n",
    "import matplotlib.pyplot as plt\n",
    "import seaborn as sns\n",
    "import json\n",
    "import math"
   ]
  },
  {
   "cell_type": "code",
   "execution_count": 48,
   "id": "843f3747",
   "metadata": {},
   "outputs": [],
   "source": [
    "dataset_path = \"C:\\\\Users\\\\subuc\\\\major_project\\\\Archive\\\\Data\\\\genres_original\"\n",
    "sample_rate = 22050\n",
    "json_path = \"body.json\"\n",
    "DURATION = 30  # time in seconds\n",
    "SAMPLE_PER_TRACK = sample_rate * DURATION"
   ]
  },
  {
   "cell_type": "code",
   "execution_count": 72,
   "id": "d4a0f4d6",
   "metadata": {
    "scrolled": true
   },
   "outputs": [
    {
     "name": "stdout",
     "output_type": "stream",
     "text": [
      "['C:', 'Users', 'subuc', 'major_project', 'Archive', 'Data', 'genres_original', 'blues']\n",
      "\n",
      "Proceesing : blues\n",
      "66150\n"
     ]
    },
    {
     "ename": "TypeError",
     "evalue": "mfcc() takes 0 positional arguments but 1 positional argument (and 2 keyword-only arguments) were given",
     "output_type": "error",
     "traceback": [
      "\u001b[1;31m---------------------------------------------------------------------------\u001b[0m",
      "\u001b[1;31mTypeError\u001b[0m                                 Traceback (most recent call last)",
      "Cell \u001b[1;32mIn[72], line 59\u001b[0m\n\u001b[0;32m     57\u001b[0m         json\u001b[38;5;241m.\u001b[39mdump(data,fp,indent\u001b[38;5;241m=\u001b[39m\u001b[38;5;241m4\u001b[39m)\n\u001b[0;32m     58\u001b[0m \u001b[38;5;28;01mif\u001b[39;00m \u001b[38;5;18m__name__\u001b[39m \u001b[38;5;241m==\u001b[39m\u001b[38;5;124m\"\u001b[39m\u001b[38;5;124m__main__\u001b[39m\u001b[38;5;124m\"\u001b[39m:\n\u001b[1;32m---> 59\u001b[0m     \u001b[43msave_mfcc\u001b[49m\u001b[43m(\u001b[49m\u001b[43mdataset_path\u001b[49m\u001b[43m,\u001b[49m\u001b[43mjson_path\u001b[49m\u001b[43m,\u001b[49m\u001b[43mnumber_segment\u001b[49m\u001b[43m \u001b[49m\u001b[38;5;241;43m=\u001b[39;49m\u001b[38;5;241;43m10\u001b[39;49m\u001b[43m)\u001b[49m\n",
      "Cell \u001b[1;32mIn[72], line 43\u001b[0m, in \u001b[0;36msave_mfcc\u001b[1;34m(dataset_path, json_path, n_mfcc, n_fft, hop_length, number_segment)\u001b[0m\n\u001b[0;32m     41\u001b[0m start_sample \u001b[38;5;241m=\u001b[39m number_of_sample_per_segment \u001b[38;5;241m*\u001b[39m s\n\u001b[0;32m     42\u001b[0m final_sample \u001b[38;5;241m=\u001b[39m start_sample \u001b[38;5;241m+\u001b[39m number_of_sample_per_segment\n\u001b[1;32m---> 43\u001b[0m mfcc \u001b[38;5;241m=\u001b[39m \u001b[43mlibrosa\u001b[49m\u001b[38;5;241;43m.\u001b[39;49m\u001b[43mfeature\u001b[49m\u001b[38;5;241;43m.\u001b[39;49m\u001b[43mmfcc\u001b[49m\u001b[43m(\u001b[49m\u001b[43msignal\u001b[49m\u001b[43m[\u001b[49m\u001b[43mstart_sample\u001b[49m\u001b[43m:\u001b[49m\u001b[43mfinal_sample\u001b[49m\u001b[43m]\u001b[49m\u001b[43m,\u001b[49m\n\u001b[0;32m     44\u001b[0m \u001b[43m                            \u001b[49m\u001b[43msr\u001b[49m\u001b[43m \u001b[49m\u001b[38;5;241;43m=\u001b[39;49m\u001b[43msr\u001b[49m\u001b[43m,\u001b[49m\n\u001b[0;32m     45\u001b[0m \u001b[43m                            \u001b[49m\u001b[43mn_fft\u001b[49m\u001b[43m \u001b[49m\u001b[38;5;241;43m=\u001b[39;49m\u001b[43m \u001b[49m\u001b[43mn_fft\u001b[49m\u001b[43m,\u001b[49m\n\u001b[0;32m     46\u001b[0m \u001b[43m                            \u001b[49m\u001b[43mn_mfcc\u001b[49m\u001b[43m \u001b[49m\u001b[38;5;241;43m=\u001b[39;49m\u001b[43m \u001b[49m\u001b[43mn_mfcc\u001b[49m\u001b[43m,\u001b[49m\n\u001b[0;32m     47\u001b[0m \u001b[43m                            \u001b[49m\u001b[43mhop_length\u001b[49m\u001b[43m \u001b[49m\u001b[38;5;241;43m=\u001b[39;49m\u001b[43mhop_length\u001b[49m\n\u001b[0;32m     48\u001b[0m \u001b[43m                       \u001b[49m\n\u001b[0;32m     49\u001b[0m \u001b[43m                   \u001b[49m\u001b[43m)\u001b[49m\n\u001b[0;32m     50\u001b[0m mfcc \u001b[38;5;241m=\u001b[39m mfcc\u001b[38;5;241m.\u001b[39mT\n\u001b[0;32m     51\u001b[0m \u001b[38;5;28mprint\u001b[39m(mfcc)\n",
      "\u001b[1;31mTypeError\u001b[0m: mfcc() takes 0 positional arguments but 1 positional argument (and 2 keyword-only arguments) were given"
     ]
    }
   ],
   "source": [
    "def save_mfcc(dataset_path, json_path, n_mfcc = 13, n_fft = 4080, hop_length = 512, number_segment =5):\n",
    "    #creating dictionary for data\n",
    "    data = {\n",
    "        \"mapping\" : [],\n",
    "        \"mfcc\" : [],\n",
    "        \"labels\" : []\n",
    "        \n",
    "    }\n",
    "    number_of_sample_per_segment = int(SAMPLE_PER_TRACK/number_segment)\n",
    "    expected_number_of_mfcc_vector_per_segment = math.ceil(number_of_sample_per_segment/hop_length)\n",
    "    \n",
    "    for i,(dirpath, dirname, filename) in enumerate(os.walk(dataset_path)):\n",
    "        \n",
    "        \n",
    "   # print(f'{i} position name of the directory {dirname}')\n",
    "        if dirpath is not dataset_path:\n",
    "            \n",
    "        \n",
    "        \n",
    "        \n",
    "        \n",
    "            dirpath_components  = dirpath.split('\\\\') # this split the path into component\n",
    "            print(dirpath_components)\n",
    "            semantic_label = dirpath_components[-1]# this take value that is last folder splitted form the datapath\n",
    "             # semantic_label this holds the last  item after splitted above.\n",
    "            data['mapping'].append(semantic_label)\n",
    "            print(\"\\nProceesing : {}\".format(semantic_label))\n",
    "        \n",
    "        \n",
    "            for f in filename:\n",
    "                file_path = os.path.join(dirpath,f)\n",
    "                \n",
    "                signal,sr = librosa.load(file_path, sr = sample_rate)\n",
    "                print(number_of_sample_per_segment)\n",
    "                \n",
    "            \n",
    "            # porcess segment and calculating mfcc\n",
    "                for s in range(number_segment):\n",
    "                    \n",
    "                    \n",
    "                    start_sample = number_of_sample_per_segment * s\n",
    "                    final_sample = start_sample + number_of_sample_per_segment\n",
    "                    mfcc = librosa.feature.mfcc(signal[start_sample:final_sample],\n",
    "                                                sr =sr,\n",
    "                                                n_fft = n_fft,\n",
    "                                                n_mfcc = n_mfcc,\n",
    "                                                hop_length =hop_length\n",
    "                                           \n",
    "                                       )\n",
    "                    mfcc = mfcc.T\n",
    "                    print(mfcc)\n",
    "                    if len(mfcc) == expected_number_of_mfcc_vector_per_segment:\n",
    "                        data['mfcc'].append(mfcc.tolist())\n",
    "                        data['label'].append(i-1)\n",
    "                        print(\"{},segment:{}\".format(file_path,s+1))\n",
    "    with open(json_path ,\"w\") as fp:\n",
    "        json.dump(data,fp,indent=4)\n",
    "if __name__ ==\"__main__\":\n",
    "    save_mfcc(dataset_path,json_path,number_segment =10)\n",
    "    \n",
    "        \n",
    "        "
   ]
  },
  {
   "cell_type": "code",
   "execution_count": null,
   "id": "53894b7a",
   "metadata": {},
   "outputs": [],
   "source": []
  },
  {
   "cell_type": "code",
   "execution_count": null,
   "id": "c44c8e07",
   "metadata": {},
   "outputs": [],
   "source": []
  }
 ],
 "metadata": {
  "kernelspec": {
   "display_name": "Python 3 (ipykernel)",
   "language": "python",
   "name": "python3"
  },
  "language_info": {
   "codemirror_mode": {
    "name": "ipython",
    "version": 3
   },
   "file_extension": ".py",
   "mimetype": "text/x-python",
   "name": "python",
   "nbconvert_exporter": "python",
   "pygments_lexer": "ipython3",
   "version": "3.10.9"
  }
 },
 "nbformat": 4,
 "nbformat_minor": 5
}
